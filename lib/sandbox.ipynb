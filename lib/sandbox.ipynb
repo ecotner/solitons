{
 "metadata": {
  "language_info": {
   "codemirror_mode": {
    "name": "ipython",
    "version": 3
   },
   "file_extension": ".py",
   "mimetype": "text/x-python",
   "name": "python",
   "nbconvert_exporter": "python",
   "pygments_lexer": "ipython3",
   "version": "3.8.0-final"
  },
  "orig_nbformat": 2,
  "kernelspec": {
   "name": "Python 3.8.0 64-bit ('venv': venv)",
   "display_name": "Python 3.8.0 64-bit ('venv': venv)",
   "metadata": {
    "interpreter": {
     "hash": "30221e9fa965d8762860587288763e2248739f577e094cb7c1d5871ff0fa548c"
    }
   }
  }
 },
 "nbformat": 4,
 "nbformat_minor": 2,
 "cells": [
  {
   "cell_type": "code",
   "execution_count": 1,
   "metadata": {},
   "outputs": [],
   "source": [
    "import sympy as sp\n",
    "from sympy import (\n",
    "    symbols,\n",
    "    Eq,\n",
    "    oo,\n",
    "    diff,\n",
    "    solveset,\n",
    "    Function,\n",
    "    integrate\n",
    "    )"
   ]
  },
  {
   "cell_type": "code",
   "execution_count": 2,
   "metadata": {},
   "outputs": [],
   "source": [
    "m = symbols(\"m\", positive=True)\n",
    "psi = Function(\"\\psi\", real=True)\n",
    "V = Function(\"V\", real=True)\n",
    "x, y, z, r, phi, th = symbols(r\"x y z r \\phi, \\theta\", real=True)"
   ]
  },
  {
   "cell_type": "code",
   "execution_count": 7,
   "metadata": {},
   "outputs": [],
   "source": [
    "d = diff(psi(x), x, 2)"
   ]
  },
  {
   "cell_type": "code",
   "execution_count": 14,
   "metadata": {},
   "outputs": [
    {
     "output_type": "execute_result",
     "data": {
      "text/plain": "-2*\\psi(x) + \\psi(x - 1) + \\psi(x + 1)",
      "text/latex": "$\\displaystyle - 2 \\psi{\\left(x \\right)} + \\psi{\\left(x - 1 \\right)} + \\psi{\\left(x + 1 \\right)}$"
     },
     "metadata": {},
     "execution_count": 14
    }
   ],
   "source": [
    "d.as_finite_difference()"
   ]
  },
  {
   "cell_type": "code",
   "execution_count": 20,
   "metadata": {},
   "outputs": [],
   "source": [
    "def get_H_psi(potential_func=None, wave_func=None, x=None):\n",
    "    if wave_func is None:\n",
    "        wave_func = Function(\"\\psi\", real=True)\n",
    "    if potential_func is None:\n",
    "        potential_func = 0\n",
    "    if x is None:\n",
    "        x = symbols(\"x\", real=True)\n",
    "    m = symbols(\"m\", positive=True)\n",
    "    K = -(1/(2*m))*diff(wave_func(x), x, x)\n",
    "    H = K + potential_func*wave_func(x)\n",
    "    return H"
   ]
  },
  {
   "cell_type": "code",
   "execution_count": 21,
   "metadata": {},
   "outputs": [
    {
     "output_type": "execute_result",
     "data": {
      "text/plain": "\\psi(x)**3 - Derivative(\\psi(x), (x, 2))/(2*m)",
      "text/latex": "$\\displaystyle \\psi^{3}{\\left(x \\right)} - \\frac{\\frac{d^{2}}{d x^{2}} \\psi{\\left(x \\right)}}{2 m}$"
     },
     "metadata": {},
     "execution_count": 21
    }
   ],
   "source": [
    "get_H_psi(abs(psi(x))**2, psi, x)"
   ]
  },
  {
   "cell_type": "code",
   "execution_count": 22,
   "metadata": {},
   "outputs": [],
   "source": [
    "def normalize(wave_func, x, xmin=None, xmax=None, norm_to_N=False):\n",
    "    if xmin is None:\n",
    "        xmin = -oo\n",
    "    if xmax is None:\n",
    "        xmax = oo\n",
    "    norm = integrate(abs(wave_func)**2, (x, xmin, xmax))\n",
    "    if norm_to_N:\n",
    "        norm /= symbols(\"N\", positive=True)\n",
    "    return wave_func/sp.sqrt(norm)"
   ]
  },
  {
   "cell_type": "code",
   "execution_count": 23,
   "metadata": {},
   "outputs": [
    {
     "output_type": "execute_result",
     "data": {
      "text/plain": "sqrt(N)*exp(-x**2/2)/pi**(1/4)",
      "text/latex": "$\\displaystyle \\frac{\\sqrt{N} e^{- \\frac{x^{2}}{2}}}{\\sqrt[4]{\\pi}}$"
     },
     "metadata": {},
     "execution_count": 23
    }
   ],
   "source": [
    "normalize(sp.exp(-x**2/2), x, norm_to_N=True)"
   ]
  },
  {
   "cell_type": "code",
   "execution_count": 41,
   "metadata": {},
   "outputs": [],
   "source": [
    "def get_var_energy(potential_func, wave_func_kind=\"gaussian\"):\n",
    "    x = symbols(\"x\", real=True)\n",
    "    R = symbols(\"R\", positive=True)\n",
    "    if wave_func_kind == \"gaussian\":\n",
    "        wave_func = sp.exp(-(x/R)**2)\n",
    "    elif wave_func_kind == \"thin-wall\":\n",
    "        wave_func = sp.Piecewise((1, abs(x) <= R/2), (0, abs(x) > R/2))\n",
    "    wave_func = normalize(wave_func, x, norm_to_N=True)\n",
    "    psi = Function(\"\\psi\", real=True)\n",
    "    H_psi = get_H_psi(potential_func, psi, x)\n",
    "    H_psi = H_psi.subs(psi(x), wave_func).doit()\n",
    "    E = integrate(wave_func*H_psi, (x, -oo, oo))\n",
    "    return wave_func, E"
   ]
  },
  {
   "cell_type": "code",
   "execution_count": 50,
   "metadata": {},
   "outputs": [],
   "source": [
    "def V(x):\n",
    "    return -x**2 + x**4\n",
    "\n",
    "psi, E = get_var_energy(V(psi(x)))"
   ]
  },
  {
   "cell_type": "code",
   "execution_count": 51,
   "metadata": {},
   "outputs": [
    {
     "output_type": "execute_result",
     "data": {
      "text/plain": "2*sqrt(3)*N**3/(3*pi*R**2) - N**2/(sqrt(pi)*R) + N/(2*R**2*m)",
      "text/latex": "$\\displaystyle \\frac{2 \\sqrt{3} N^{3}}{3 \\pi R^{2}} - \\frac{N^{2}}{\\sqrt{\\pi} R} + \\frac{N}{2 R^{2} m}$"
     },
     "metadata": {},
     "execution_count": 51
    }
   ],
   "source": [
    "E"
   ]
  },
  {
   "cell_type": "code",
   "execution_count": 4,
   "metadata": {},
   "outputs": [],
   "source": [
    "from sympy.vector import CoordSys3D"
   ]
  },
  {
   "cell_type": "code",
   "execution_count": 5,
   "metadata": {},
   "outputs": [],
   "source": [
    "N = CoordSys3D(\"N\")"
   ]
  },
  {
   "cell_type": "code",
   "execution_count": 8,
   "metadata": {},
   "outputs": [
    {
     "output_type": "execute_result",
     "data": {
      "text/plain": "3*N.x + 2*N.y",
      "text/latex": "$\\displaystyle 3 \\mathbf{{x}_{N}} + 2 \\mathbf{{y}_{N}}$"
     },
     "metadata": {},
     "execution_count": 8
    }
   ],
   "source": [
    "3*N.x + 2*N.y "
   ]
  },
  {
   "cell_type": "code",
   "execution_count": 11,
   "metadata": {},
   "outputs": [
    {
     "output_type": "error",
     "ename": "AttributeError",
     "evalue": "'CoordSys3D' object has no attribute 'r'",
     "traceback": [
      "\u001b[0;31m---------------------------------------------------------------------------\u001b[0m",
      "\u001b[0;31mAttributeError\u001b[0m                            Traceback (most recent call last)",
      "\u001b[0;32m<ipython-input-11-45ac1249208f>\u001b[0m in \u001b[0;36m<module>\u001b[0;34m\u001b[0m\n\u001b[0;32m----> 1\u001b[0;31m \u001b[0mtype\u001b[0m\u001b[0;34m(\u001b[0m\u001b[0mN\u001b[0m\u001b[0;34m.\u001b[0m\u001b[0mr\u001b[0m\u001b[0;34m)\u001b[0m\u001b[0;34m\u001b[0m\u001b[0;34m\u001b[0m\u001b[0m\n\u001b[0m",
      "\u001b[0;31mAttributeError\u001b[0m: 'CoordSys3D' object has no attribute 'r'"
     ]
    }
   ],
   "source": [
    "type(N.r)"
   ]
  },
  {
   "cell_type": "code",
   "execution_count": 19,
   "metadata": {},
   "outputs": [
    {
     "output_type": "execute_result",
     "data": {
      "text/plain": "0",
      "text/latex": "$\\displaystyle 0$"
     },
     "metadata": {},
     "execution_count": 19
    }
   ],
   "source": [
    "from sympy.vector import laplacian\n",
    "\n",
    "x = sp.symbols(\"x\")\n",
    "laplacian(x**3)"
   ]
  },
  {
   "cell_type": "code",
   "execution_count": 20,
   "metadata": {},
   "outputs": [],
   "source": [
    "R = CoordSys3D(\"R\", transformation=\"spherical\")"
   ]
  },
  {
   "cell_type": "code",
   "execution_count": 26,
   "metadata": {},
   "outputs": [
    {
     "output_type": "execute_result",
     "data": {
      "text/plain": "R.k",
      "text/latex": "$\\displaystyle \\mathbf{\\hat{k}_{R}}$"
     },
     "metadata": {},
     "execution_count": 26
    }
   ],
   "source": [
    "R.k"
   ]
  }
 ]
}